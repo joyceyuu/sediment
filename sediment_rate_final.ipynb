{
 "cells": [
  {
   "cell_type": "markdown",
   "metadata": {
    "deletable": true,
    "editable": true
   },
   "source": [
    "# Sedimentation Rate Analysis\n",
    "\n",
    "### Load dataset and declare indices of variables"
   ]
  },
  {
   "cell_type": "code",
   "execution_count": null,
   "metadata": {
    "collapsed": false,
    "deletable": true,
    "editable": true
   },
   "outputs": [],
   "source": [
    "import numpy as np\n",
    "import matplotlib.pyplot as plt\n",
    "from sklearn.metrics import r2_score\n",
    "import geo_preprocess3\n",
    "from tabulate import tabulate\n",
    "from mpl_toolkits.mplot3d import Axes3D\n",
    "from scipy.optimize import minimize\n",
    "\n",
    "% matplotlib inline\n",
    "\n",
    "# load data\n",
    "data = np.genfromtxt('alldata_new', delimiter='')\n",
    "\n",
    "# define column index for 19 variables\n",
    "lon_ind = 0\n",
    "lat_ind = 1\n",
    "sedthick_ind = 2\n",
    "sedrate_ind = 3   \n",
    "age_ind = 4\n",
    "passive_dis_ind = 5\n",
    "amazon_dis_ind = 6\n",
    "congo_dis_ind = 7\n",
    "gange_dis_ind = 8\n",
    "godava_dis_ind = 9\n",
    "indus_dis_ind = 10\n",
    "magdalena_dis_ind = 11\n",
    "mahan_dis_ind = 12\n",
    "missi_dis_ind = 13\n",
    "narma_dis_ind = 14\n",
    "niger_dis_ind = 15\n",
    "orin_dis_ind = 16\n",
    "paleo_dis_ind = 17\n",
    "parana_dis_ind = 18\n",
    "\n",
    "river_indices = np.array([amazon_dis_ind, congo_dis_ind, gange_dis_ind, godava_dis_ind, indus_dis_ind, \n",
    "                          magdalena_dis_ind, mahan_dis_ind, missi_dis_ind, narma_dis_ind, niger_dis_ind,\n",
    "                          orin_dis_ind, paleo_dis_ind, parana_dis_ind])\n",
    "\n",
    "river_names = np.array(['Amazon', 'Congo', 'Ganges-Bramaputra', 'Godavari-Krishna', 'Indus',\n",
    "                        'Magdalena', 'Mahanadi', 'Mississipi', 'Narma', 'Niger', 'Orinoco',\n",
    "                        'Paleo-Congo', 'Parana'])\n",
    "\n",
    "print(river_indices)\n",
    "data.shape"
   ]
  },
  {
   "cell_type": "markdown",
   "metadata": {
    "deletable": true,
    "editable": true
   },
   "source": [
    "### Declare the regressor "
   ]
  },
  {
   "cell_type": "code",
   "execution_count": null,
   "metadata": {
    "collapsed": true,
    "deletable": true,
    "editable": true
   },
   "outputs": [],
   "source": [
    "from sklearn.linear_model import LinearRegression\n",
    "from sklearn.pipeline import Pipeline\n",
    "from sklearn.preprocessing import StandardScaler\n",
    "from sklearn.preprocessing import PolynomialFeatures\n",
    "from sklearn.linear_model import Lasso\n",
    "\n",
    "# number of splits for LongFold cross validation\n",
    "n_splits = 3\n",
    "\n",
    "# regressor\n",
    "regressor = Pipeline(steps=[('stand', StandardScaler()),\n",
    "                            ('poly', PolynomialFeatures(degree=3)),\n",
    "                            ('linear', Lasso(alpha=0.01))])"
   ]
  },
  {
   "cell_type": "markdown",
   "metadata": {
    "deletable": true,
    "editable": true
   },
   "source": [
    "### Remove records where rate is nan, age is nan, and distance to passive is nan"
   ]
  },
  {
   "cell_type": "code",
   "execution_count": null,
   "metadata": {
    "collapsed": false,
    "deletable": true,
    "editable": true
   },
   "outputs": [],
   "source": [
    "# remove records where thick is zero\n",
    "y = data[:, sedthick_ind]\n",
    "data = data[~(y == 0)]\n",
    "\n",
    "# remove records where age is nan\n",
    "y = data[:, age_ind]\n",
    "data = data[~np.isnan(y)]\n",
    "\n",
    "# remove records where distance to passive margin is nan\n",
    "y = data[:, passive_dis_ind]\n",
    "data = data[~np.isnan(y)]\n",
    "\n",
    "# remove records where sediment rate is nan or 0\n",
    "sedrate = data[:, sedrate_ind]\n",
    "index = (~np.isnan(sedrate)) & (~(sedrate == 0))\n",
    "data = data[index]\n",
    "\n",
    "# the final dataset has dimension as follows\n",
    "data.shape"
   ]
  },
  {
   "cell_type": "code",
   "execution_count": null,
   "metadata": {
    "collapsed": false,
    "deletable": true,
    "editable": true
   },
   "outputs": [],
   "source": [
    "# plot histogram for sedimentation rate and log sedimentation rate\n",
    "f, (ax1, ax2) = plt.subplots(1,2)\n",
    "ax1.hist(data[:, [sedrate_ind]], color=\"#3F5D7D\", bins=15)\n",
    "ax2.hist(np.log(data[:, [sedrate_ind]]), color=\"#3F5D7D\", bins=15)\n",
    "ax1.set_xlabel('sedimentation rate')\n",
    "ax1.set_ylabel('frequency')\n",
    "ax2.set_xlabel('log sedimentation rate')\n",
    "ax1.set_title('Histogram of rate')\n",
    "ax2.set_title('Histogram of log rate')\n",
    "plt.show()"
   ]
  },
  {
   "cell_type": "code",
   "execution_count": null,
   "metadata": {
    "collapsed": false,
    "deletable": true,
    "editable": true
   },
   "outputs": [],
   "source": [
    "# generate inverse of rivers and mask rivers distance greater than 1500km\n",
    "def generate_irivers():\n",
    "    rivers = data[:, river_indices]\n",
    "\n",
    "    rivers[rivers > 1500.0] = np.nan\n",
    "\n",
    "    rivers[np.isnan(rivers)] = np.inf\n",
    "    \n",
    "    return 1.0 / rivers"
   ]
  },
  {
   "cell_type": "code",
   "execution_count": null,
   "metadata": {
    "collapsed": true,
    "deletable": true,
    "editable": true
   },
   "outputs": [],
   "source": [
    "# generate various plots of goodness of fit\n",
    "def plot_goodness_fit(lon, lat, yactual, ypred):\n",
    "\n",
    "    # scatterplot of ypred and yactual\n",
    "    geo_preprocess3.feature_scatter(yactual, ypred, \n",
    "                                   xlim1=-4,\n",
    "                                   xlim2=3,\n",
    "                                   ylim1=-4,\n",
    "                                   ylim2=3)\n",
    "    # global map of y actual\n",
    "    geo_preprocess3.draw_global(c=yactual, \n",
    "                                title='actual log sediment rate',\n",
    "                                longitude=lon, latitude=lat, \n",
    "                                vmin=-4, \n",
    "                                vmax=3)\n",
    "    \n",
    "    # global map of y predicted\n",
    "    geo_preprocess3.draw_global(c=ypred, \n",
    "                           title='predicted log sediment rate',\n",
    "                           longitude=lon, latitude=lat, \n",
    "                           vmin=-4, \n",
    "                           vmax=3)\n",
    "    \n",
    "    # global map of y actual - y predicted\n",
    "    geo_preprocess3.draw_global(c= (sedrate - np.exp(ypred)), \n",
    "                       title='actual rate minus predicted rate',\n",
    "                       longitude=lon, latitude=lat, \n",
    "                       vmin=-10, \n",
    "                       vmax=10)"
   ]
  },
  {
   "cell_type": "markdown",
   "metadata": {
    "deletable": true,
    "editable": true
   },
   "source": [
    "### Train and Predict - with all rivers"
   ]
  },
  {
   "cell_type": "code",
   "execution_count": null,
   "metadata": {
    "collapsed": false,
    "deletable": true,
    "editable": true
   },
   "outputs": [],
   "source": [
    "irivers = generate_irivers()\n",
    "\n",
    "# data1 only has feature longitude, latitude, age and distance to passive margin\n",
    "data1 = data[:, [lon_ind, lat_ind, age_ind, passive_dis_ind]]\n",
    "\n",
    "# extract sedimentation rate\n",
    "sedrate = data[:, sedrate_ind]\n",
    "\n",
    "def compute_r2(weights):\n",
    "    \"\"\"\n",
    "    Function to be optimzed later.\n",
    "    \n",
    "    Parameters\n",
    "    ----------\n",
    "    weights : ndarray (d, 1); the weights for rivers\n",
    "    \n",
    "    Return\n",
    "    ------\n",
    "    nr2 : float; the negative r square\n",
    "    \"\"\"\n",
    "    nr2 = 0.0\n",
    "    \n",
    "    # square weights to make sure they are positive\n",
    "    weights = weights ** 2\n",
    "\n",
    "    # obtain weighted sum of inverse of distance to rivers\n",
    "    ws_river = np.sum(irivers * weights, axis=1)\n",
    "    \n",
    "    # integrate all features and target variable into one matrix - data2\n",
    "    data2 = np.c_[data1, ws_river, sedrate]\n",
    "    \n",
    "    # do regression \n",
    "    # - this is a function in file geo_preprocess3\n",
    "    # - it use longitude to do LongFold cross validation\n",
    "    # - logy=True means apply log transform to target variable y\n",
    "    ypred,_ = geo_preprocess3.regression(data=data2, \n",
    "                    regressor=regressor, \n",
    "                    n_splits=n_splits,\n",
    "                    lon_ind=lon_ind, \n",
    "                    lat_ind=lat_ind, \n",
    "                    y_ind=-1,\n",
    "                    logy=True)\n",
    "    \n",
    "    yactual = np.log(sedrate)\n",
    "    \n",
    "    # obtain negative r square of actual log rate and predicted log rate\n",
    "    nr2 = -1.0 * r2_score(yactual, ypred)\n",
    "    \n",
    "    # print nr2 to see the process of optimization\n",
    "    print(nr2)\n",
    "    return nr2\n",
    "\n",
    "\n",
    "\n",
    "# initial guess of weights; seed fix random number so that we can recover the result\n",
    "np.random.seed(0)\n",
    "w0 = np.random.random(13)\n",
    "\n",
    "# here I comment out the command for launching optmization, it takes long time to converge\n",
    "\n",
    "res = minimize(fun=compute_r2,\n",
    "               x0=w0,\n",
    "               method='COBYLA',\n",
    "               tol=1e-6,\n",
    "               options={'maxiter': 10000,\n",
    "                        'disp': True}\n",
    ")\n",
    "res.x\n",
    "opt = res.x\n",
    "opt = opt ** 2\n",
    "print(tabulate(np.vstack([river_names, opt]).T))"
   ]
  },
  {
   "cell_type": "markdown",
   "metadata": {
    "deletable": true,
    "editable": true
   },
   "source": [
    "### Use optimized weights to generate feature distance to rivers"
   ]
  },
  {
   "cell_type": "code",
   "execution_count": null,
   "metadata": {
    "collapsed": false,
    "deletable": true,
    "editable": true
   },
   "outputs": [],
   "source": [
    "# This is the optimal weights from optimization\n",
    "opt_weights = np.array([\n",
    "        0.441015,\n",
    "        0.055656,\n",
    "        0.248724,\n",
    "        0.208447,\n",
    "        0.322598,\n",
    "        0.0114151,\n",
    "        0.17303,\n",
    "        1.07033,\n",
    "        0.460401,\n",
    "        0.133084,\n",
    "        0.158856,\n",
    "        0.0442793,\n",
    "        0.312234\n",
    "    ])"
   ]
  },
  {
   "cell_type": "markdown",
   "metadata": {
    "deletable": true,
    "editable": true
   },
   "source": [
    "### Train model and do regression, plot goodness of fit"
   ]
  },
  {
   "cell_type": "code",
   "execution_count": null,
   "metadata": {
    "collapsed": false,
    "deletable": true,
    "editable": true,
    "scrolled": false
   },
   "outputs": [],
   "source": [
    "np.seterr(invalid='ignore')\n",
    "irivers = generate_irivers()\n",
    "\n",
    "# use opt_weights to get optimal weighted sum of inverse of distance to rivers\n",
    "ws_river = np.sum(irivers * opt_weights, 1)\n",
    "\n",
    "# define the feature matrix along with target variable - sedrate\n",
    "data1 = data[:, [lon_ind, lat_ind, age_ind, passive_dis_ind]]\n",
    "sedrate = data[:, sedrate_ind]\n",
    "data2 = np.c_[data1, ws_river, sedrate]\n",
    "\n",
    "# regression, with optimal weighted sum of inverse of distance to rivers\n",
    "# return predicted log rate and trained regressor\n",
    "ypred, _ =  geo_preprocess3.regression(data=data2, \n",
    "                                        regressor=regressor, \n",
    "                                        n_splits=3,\n",
    "                                        lon_ind=lon_ind, \n",
    "                                        lat_ind=lat_ind, \n",
    "                                        y_ind=-1,\n",
    "                                        logy=True)\n",
    "\n",
    "# extract longitude, latitude and sedrate for plots\n",
    "lon = data1[:,lon_ind]\n",
    "lat = data1[:,lat_ind]\n",
    "yactual = np.log(sedrate)\n",
    "\n",
    "plot_goodness_fit(lon, lat, yactual, ypred)"
   ]
  },
  {
   "cell_type": "code",
   "execution_count": null,
   "metadata": {
    "collapsed": true,
    "deletable": true,
    "editable": true
   },
   "outputs": [],
   "source": []
  },
  {
   "cell_type": "code",
   "execution_count": null,
   "metadata": {
    "collapsed": false,
    "deletable": true,
    "editable": true,
    "scrolled": true
   },
   "outputs": [],
   "source": [
    "def period_pred(c_river_indices, period_name, period_explan, period_index):\n",
    "    \"\"\"\n",
    "    Conduct prediction for certain time period and generate plots.\n",
    "    \n",
    "    Parameters\n",
    "    ----------\n",
    "    c_river_indice: ndarray (m, 1)\n",
    "                    the indice of existed rivers at this time period\n",
    "    period_name : string; e.g. '26Ma'\n",
    "    period_explan : string; e.g. 'exclude Paleo'\n",
    "    period_index : ndarray (n, 1)\n",
    "                   it is used to remove records where age is outside the time period\n",
    "    \"\"\"\n",
    "    # select subset of data based on period_index\n",
    "    datapd = data[period_index]\n",
    "\n",
    "    # extract rivers from datapd, impute nan with infinty, and apply inverse of distance to rivers\n",
    "    rivers = datapd[:, river_indices]\n",
    "    rivers[np.isnan(rivers)] = np.inf\n",
    "    irivers = 1.0 / rivers\n",
    "\n",
    "    # in this case, use all rivers to get weighted sum of inverse of distance to rivers\n",
    "    ws_river = np.sum(irivers * opt_weights, 1)   \n",
    "    \n",
    "    # construct matrix for regression\n",
    "    data1 = datapd[:, [lon_ind, lat_ind, age_ind, passive_dis_ind]]\n",
    "    sedrate = datapd[:, sedrate_ind]\n",
    "    data2 = np.c_[data1, ws_river]\n",
    "    \n",
    "    # prediction1 - with weighted sum of 13 rivers\n",
    "    ypred1 =  geo_preprocess3.predict(data2, regressor_trained)\n",
    "    \n",
    "    # extract existed rivers from datapd, impute nan with infinty, and apply inverse of distance to rivers\n",
    "    rivers = datapd[:, c_river_indices]\n",
    "    rivers[np.isnan(rivers)] = np.inf\n",
    "    irivers = 1.0 / rivers\n",
    "    \n",
    "    # extract corresponding weights\n",
    "    weights = opt_weights[c_river_indices-6]\n",
    "    \n",
    "    # in this case, only use existed rivers to get weighted sum of inverse of distance to rivers\n",
    "    ws_river2 = np.sum(irivers * weights, 1)\n",
    "\n",
    "\n",
    "    # construct matrix for regression\n",
    "    data1 = datapd[:, [lon_ind, lat_ind, age_ind, passive_dis_ind]]\n",
    "    sedrate = datapd[:, sedrate_ind]\n",
    "    data2 = np.c_[data1, ws_river2]\n",
    "\n",
    "    # prediction2 - with weighted sum of existed rivers\n",
    "    ypred2 =  geo_preprocess3.predict(data2, regressor_trained)\n",
    "\n",
    "    # longitude and latitude for plot\n",
    "    lon = data1[:,lon_ind]\n",
    "    lat = data1[:,lat_ind]\n",
    "    yactual = np.log(sedrate)\n",
    "    \n",
    "    # global map of actual log sediment rate\n",
    "    geo_preprocess3.draw_global(c=np.log(sedrate), \n",
    "                           title='actual log sediment rate - '+period_name,\n",
    "                           longitude=lon, latitude=lat, \n",
    "                           vmin=-4, \n",
    "                           vmax=3)\n",
    "\n",
    "    # global map of predicted sediment rate with all features\n",
    "    geo_preprocess3.draw_global(c=ypred1, title='predicted log sediment rate - '+period_name +' (with all features)',\n",
    "                           longitude=lon, latitude=lat,\n",
    "                           vmin=-4, \n",
    "                           vmax=3)\n",
    "\n",
    "    # global map of predicted sediment rate with existed rivers\n",
    "    geo_preprocess3.draw_global(c=ypred2, title='predicted log sediment rate - '+period_name+' '+period_explan,\n",
    "                           longitude=lon, latitude=lat,\n",
    "                           vmin=-4, \n",
    "                           vmax=3)\n",
    "\n",
    "    # global map of difference between prediction with all rivers and will existed rivers\n",
    "    geo_preprocess3.draw_global(c= (np.exp(ypred1) - np.exp(ypred2)), \n",
    "                            title='pred with all rivers minus pred without certain rivers-'+period_name,\n",
    "                           longitude=lon, latitude=lat,\n",
    "                           vmin=-1, \n",
    "                           vmax=1)\n",
    "\n",
    "    # global map of feature weighted summation of distance to rivers\n",
    "    geo_preprocess3.draw_global(c=ws_river2, title='optimal weighted summation of distance to rivers - '+period_name,\n",
    "                           longitude=lon, latitude=lat,\n",
    "                           vmin=0, \n",
    "                           vmax=0.008,\n",
    "                           cmap='Reds')\n",
    "    diff = (np.exp(ypred1) - np.exp(ypred2))\n",
    "    \n",
    "    diff_nz = diff[~(diff == 0.0)]\n",
    "    print('number of grids where two prediction are different = ' + str(diff_nz.shape[0]))\n",
    "    print('mean of difference between two predictions = ' + str(np.mean(diff_nz)))\n",
    "    print('standard deviation of difference between two predictions = ' + str(np.std(diff_nz)))\n",
    "    return diff"
   ]
  },
  {
   "cell_type": "markdown",
   "metadata": {
    "deletable": true,
    "editable": true
   },
   "source": [
    "### Prediction1 - present (exlcude Paleo-Congo)"
   ]
  },
  {
   "cell_type": "code",
   "execution_count": null,
   "metadata": {
    "collapsed": false,
    "deletable": true,
    "editable": true,
    "scrolled": false
   },
   "outputs": [],
   "source": [
    "age = data[:, age_ind]\n",
    "\n",
    "# existed river indices\n",
    "c_river_indices = np.array([amazon_dis_ind, congo_dis_ind, gange_dis_ind, godava_dis_ind, indus_dis_ind, \n",
    "                          magdalena_dis_ind, mahan_dis_ind, missi_dis_ind, narma_dis_ind, niger_dis_ind,\n",
    "                          orin_dis_ind, parana_dis_ind])\n",
    "period_index = (age > 0.0)\n",
    "diff = period_pred(c_river_indices, 'present', '(exclude Paleo)', period_index)"
   ]
  },
  {
   "cell_type": "markdown",
   "metadata": {
    "deletable": true,
    "editable": true
   },
   "source": [
    "### Prediction2 - 26Ma (remove Amazon, Orinoco, Congo, Paleo-Congo)"
   ]
  },
  {
   "cell_type": "code",
   "execution_count": null,
   "metadata": {
    "collapsed": false,
    "deletable": true,
    "editable": true,
    "scrolled": false
   },
   "outputs": [],
   "source": [
    "# existed river indices\n",
    "c_river_indices = np.array([gange_dis_ind, godava_dis_ind, indus_dis_ind, \n",
    "                          magdalena_dis_ind, mahan_dis_ind, missi_dis_ind, narma_dis_ind, niger_dis_ind,\n",
    "                          parana_dis_ind])\n",
    "period_index = (age > 26.0)\n",
    "diff = period_pred(c_river_indices, '26Ma', '(remove Amazon, Orinoco, Congo, Paleo)', period_index)"
   ]
  },
  {
   "cell_type": "markdown",
   "metadata": {
    "deletable": true,
    "editable": true
   },
   "source": [
    "### Prediction3 - 56Ma (only Parana, Paleo-Congo, Niger)"
   ]
  },
  {
   "cell_type": "code",
   "execution_count": null,
   "metadata": {
    "collapsed": false,
    "deletable": true,
    "editable": true,
    "scrolled": true
   },
   "outputs": [],
   "source": [
    "# existed river indices\n",
    "c_river_indices = np.array([niger_dis_ind,paleo_dis_ind, parana_dis_ind])\n",
    "\n",
    "period_index = (age > 56.0)\n",
    "diff=period_pred(c_river_indices, '56Ma', '(Parana, Paleo-Congo, Niger)', period_index)"
   ]
  },
  {
   "cell_type": "markdown",
   "metadata": {
    "deletable": true,
    "editable": true
   },
   "source": [
    "### Feature Analysis - Age"
   ]
  },
  {
   "cell_type": "code",
   "execution_count": null,
   "metadata": {
    "collapsed": false,
    "deletable": true,
    "editable": true,
    "scrolled": true
   },
   "outputs": [],
   "source": [
    "# regressor\n",
    "regressor = Pipeline(steps=[('stand', StandardScaler()),\n",
    "                            ('poly', PolynomialFeatures(degree=3)),\n",
    "                            ('linear', Lasso(alpha=0.01))])\n",
    "\n",
    "# global map of age\n",
    "age = data[:, age_ind]\n",
    "sedrate = data[:, sedrate_ind]\n",
    "geo_preprocess3.draw_global(c=age, \n",
    "                            title='Global map of age',\n",
    "                            longitude=data[:, lon_ind],\n",
    "                            latitude=data[:, lat_ind],\n",
    "                            vmin = 0,\n",
    "                            vmax=197, \n",
    "                            cmap='Blues')\n",
    "\n",
    "# learn relationship between age and sedrate\n",
    "regressor.fit(age.reshape(-1,1), np.log(sedrate))\n",
    "fea_min = np.min(age)\n",
    "fea_max = np.max(age)\n",
    "fea_query = np.linspace(fea_min, fea_max, 20)[:, np.newaxis]\n",
    "fea_pred = regressor.predict(fea_query)\n",
    "\n",
    "# scatterplot of age and log sedrate\n",
    "plt.plot(age, np.log(data[:, sedrate_ind]), 'go', alpha=0.05, lw=0)\n",
    "plt.plot(fea_query, fea_pred, color='b')\n",
    "plt.title('scatterplot of age and log sedrate with regression line')\n",
    "plt.xlabel('age')\n",
    "plt.ylabel('log sedrate')\n",
    "plt.ylim([-6, 8])\n",
    "plt.show()"
   ]
  },
  {
   "cell_type": "markdown",
   "metadata": {
    "deletable": true,
    "editable": true
   },
   "source": [
    "### Feature Analysis - Distance to passive margin"
   ]
  },
  {
   "cell_type": "code",
   "execution_count": null,
   "metadata": {
    "collapsed": false,
    "deletable": true,
    "editable": true
   },
   "outputs": [],
   "source": [
    "# regressor\n",
    "regressor = Pipeline(steps=[('stand', StandardScaler()),\n",
    "                            ('poly', PolynomialFeatures(degree=3)),\n",
    "                            ('linear', Lasso(alpha=0.01))])\n",
    "\n",
    "# global map of distance to passive margine\n",
    "passive_dis = data[:, passive_dis_ind]\n",
    "sedrate = data[:, sedrate_ind]\n",
    "geo_preprocess3.draw_global(c=passive_dis, \n",
    "                            title='Global map of distance to passive margin',\n",
    "                            longitude=data[:, lon_ind],\n",
    "                            latitude=data[:, lat_ind],\n",
    "                            vmin = 0,\n",
    "                            vmax=8000,\n",
    "                            cmap='Blues')\n",
    "\n",
    "# learn relationship between distance to passive margine and sedrate\n",
    "regressor.fit(passive_dis.reshape(-1,1), np.log(sedrate))\n",
    "fea_min = np.min(passive_dis)\n",
    "fea_max = np.max(passive_dis)\n",
    "fea_query = np.linspace(fea_min, fea_max, 20)[:, np.newaxis]\n",
    "fea_pred = regressor.predict(fea_query)\n",
    "\n",
    "# scatterplot of distance to passive margine and log sedrate\n",
    "plt.plot(passive_dis, np.log(data[:, sedrate_ind]), 'go', alpha=0.05, lw=0)\n",
    "plt.plot(fea_query, fea_pred, color='b')\n",
    "plt.title('scatterplot of distance to passive margin and log sedrate with regression line')\n",
    "plt.xlabel('distance to passive margin')\n",
    "plt.ylabel('log sedrate')\n",
    "plt.ylim([-6, 8])\n",
    "plt.show()"
   ]
  },
  {
   "cell_type": "markdown",
   "metadata": {
    "deletable": true,
    "editable": true
   },
   "source": [
    "### Feature Analysis - Weighted sum of inverse of distance to rivers"
   ]
  },
  {
   "cell_type": "code",
   "execution_count": null,
   "metadata": {
    "collapsed": false,
    "deletable": true,
    "editable": true,
    "scrolled": false
   },
   "outputs": [],
   "source": [
    "# regressor\n",
    "regressor = Pipeline(steps=[('stand', StandardScaler()),\n",
    "                            ('poly', PolynomialFeatures(degree=3)),\n",
    "                            ('linear', Lasso(alpha=0.01))])\n",
    "\n",
    "# global map of weighted sum of inverse of distance to rivers\n",
    "rivers = data[:, river_indices]\n",
    "rivers[np.isnan(rivers)] = np.inf\n",
    "irivers = 1.0 / rivers\n",
    "ws_river = np.sum(irivers * opt_weights, 1)\n",
    "\n",
    "sedrate = data[:, sedrate_ind]\n",
    "geo_preprocess3.draw_global(c=ws_river, \n",
    "                            title='Global map of weighted sum of inverse of distance to rivers',\n",
    "                            longitude=data[:, lon_ind],\n",
    "                            latitude=data[:, lat_ind],\n",
    "                            vmin = 0,\n",
    "                            vmax=0.01,\n",
    "                            cmap='Blues')\n",
    "\n",
    "# learn relationship between weighted sum of inverse of distance to rivers and sedrate\n",
    "regressor.fit(ws_river.reshape(-1,1), np.log(sedrate))\n",
    "fea_min = np.min(ws_river)\n",
    "fea_max = np.max(ws_river)\n",
    "fea_query = np.linspace(fea_min, fea_max, 20)[:, np.newaxis]\n",
    "fea_pred = regressor.predict(fea_query)\n",
    "\n",
    "# scatterplot of weighted sum of inverse of distance to rivers and log sedrate\n",
    "plt.plot(ws_river, np.log(data[:, sedrate_ind]), 'go', alpha=0.05, lw=0)\n",
    "plt.plot(fea_query, fea_pred, color='b')\n",
    "plt.title('scatterplot of weighted sum of inverse of distance to rivers and log sedrate with regression line')\n",
    "plt.xlabel('weighted sum of inverse of distance to rivers')\n",
    "plt.ylabel('log sedrate')\n",
    "plt.ylim([-6, 8])\n",
    "plt.show()"
   ]
  },
  {
   "cell_type": "markdown",
   "metadata": {
    "deletable": true,
    "editable": true
   },
   "source": [
    "### Feature Analysis - Age and Distance to passive margin"
   ]
  },
  {
   "cell_type": "code",
   "execution_count": null,
   "metadata": {
    "collapsed": true,
    "deletable": true,
    "editable": true
   },
   "outputs": [],
   "source": [
    "# regressor\n",
    "regressor = Pipeline(steps=[('stand', StandardScaler()),\n",
    "                            ('poly', PolynomialFeatures(degree=2)),\n",
    "                            ('linear', Lasso(alpha=0.01))])\n",
    "\n",
    "rivers = data[:, river_indices]\n",
    "rivers[np.isnan(rivers)] = np.inf\n",
    "irivers = 1.0 / rivers\n",
    "ws_river = np.sum(irivers * opt_weights, )\n",
    "\n",
    "data1 = data[:, [lon_ind, lat_ind, age_ind, passive_dis_ind]]\n",
    "sedrate = data[:, sedrate_ind]\n",
    "data2 = np.c_[data1, irivers, sedrate]"
   ]
  },
  {
   "cell_type": "markdown",
   "metadata": {
    "deletable": true,
    "editable": true
   },
   "source": [
    "### Treat 13 distance to rivers as 13 features instead of one feature"
   ]
  },
  {
   "cell_type": "code",
   "execution_count": null,
   "metadata": {
    "collapsed": false,
    "deletable": true,
    "editable": true
   },
   "outputs": [],
   "source": [
    "# regressor\n",
    "regressor = Pipeline(steps=[('stand', StandardScaler()),\n",
    "                            ('poly', PolynomialFeatures(degree=2)),\n",
    "                            ('linear', Lasso(alpha=0.01))])\n",
    "\n",
    "rivers = data[:, river_indices]\n",
    "rivers[np.isnan(rivers)] = np.inf\n",
    "irivers = 1.0 / rivers\n",
    "\n",
    "data1 = data[:, [lon_ind, lat_ind, age_ind, passive_dis_ind]]\n",
    "sedrate = data[:, sedrate_ind]\n",
    "data2 = np.c_[data1, irivers, sedrate]\n",
    "\n",
    "ypred, regressor_trained =  geo_preprocess3.regression(data=data2, \n",
    "                                    regressor=regressor, \n",
    "                                    n_splits=3,\n",
    "                                    lon_ind=lon_ind, \n",
    "                                    lat_ind=lat_ind, \n",
    "                                    y_ind=-1,\n",
    "                                    logy=True)\n",
    "\n",
    "\n",
    "# extract longitude, latitude and sedrate for plots\n",
    "lon = data1[:,lon_ind]\n",
    "lat = data1[:,lat_ind]\n",
    "yactual = np.log(sedrate)\n",
    "\n",
    "# scatterplot of ypred and yactual\n",
    "geo_preprocess3.feature_scatter(yactual, ypred, \n",
    "                               xlim1=-4,\n",
    "                               xlim2=3,\n",
    "                               ylim1=-4,\n",
    "                               ylim2=3)\n",
    "\n",
    "# global map of actual log sediment rate\n",
    "geo_preprocess3.draw_global(c=np.log(sedrate), \n",
    "                       title='actual log sediment rate',\n",
    "                       longitude=lon, latitude=lat, \n",
    "                       vmin=-4, \n",
    "                       vmax=3)\n",
    "\n",
    "# global map of predicted log sediment rate from regression\n",
    "geo_preprocess3.draw_global(c=ypred, \n",
    "                       title='predicted log sediment rate - 13 rivers as 13 features',\n",
    "                       longitude=lon, latitude=lat, \n",
    "                       vmin=-4, \n",
    "                       vmax=3)\n",
    "\n",
    "# global map of difference between actual and predicted sediment rate\n",
    "# i.e. actual sediment rate - exp(predicted log sediment rate)\n",
    "geo_preprocess3.draw_global(c= (sedrate - np.exp(ypred)), \n",
    "                       title='actual rate minus predicted rate',\n",
    "                       longitude=lon, latitude=lat, \n",
    "                       vmin=-10, \n",
    "                       vmax=10)"
   ]
  }
 ],
 "metadata": {
  "kernelspec": {
   "display_name": "Python 2",
   "language": "python",
   "name": "python2"
  },
  "language_info": {
   "codemirror_mode": {
    "name": "ipython",
    "version": 2
   },
   "file_extension": ".py",
   "mimetype": "text/x-python",
   "name": "python",
   "nbconvert_exporter": "python",
   "pygments_lexer": "ipython2",
   "version": "2.7.10"
  }
 },
 "nbformat": 4,
 "nbformat_minor": 1
}
